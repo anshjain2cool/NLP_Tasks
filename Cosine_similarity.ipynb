{
 "cells": [
  {
   "cell_type": "code",
   "execution_count": 1,
   "metadata": {},
   "outputs": [],
   "source": [
    "import nltk\n",
    "from nltk.stem import PorterStemmer\n",
    "stemmer = PorterStemmer()\n",
    "\n",
    "example = \"The cat was chasing the mice\"\n",
    "example = [stemmer.stem(token) for token in example.split(\" \")]"
   ]
  },
  {
   "cell_type": "code",
   "execution_count": 2,
   "metadata": {},
   "outputs": [
    {
     "name": "stdout",
     "output_type": "stream",
     "text": [
      "the cat wa chase a mous\n"
     ]
    }
   ],
   "source": [
    "print(\" \".join(example))"
   ]
  },
  {
   "cell_type": "code",
   "execution_count": 3,
   "metadata": {},
   "outputs": [],
   "source": [
    "import nltk\n",
    "from nltk.stem import PorterStemmer\n",
    "stemmer = PorterStemmer()\n",
    "\n",
    "example = \"The cat was chasing the mice\"\n",
    "example = [stemmer.stem(token) for token in example.split(\" \")]"
   ]
  },
  {
   "cell_type": "code",
   "execution_count": 4,
   "metadata": {},
   "outputs": [
    {
     "name": "stdout",
     "output_type": "stream",
     "text": [
      "the cat wa chase the mice\n"
     ]
    }
   ],
   "source": [
    "print(\" \".join(example))"
   ]
  },
  {
   "cell_type": "code",
   "execution_count": 7,
   "metadata": {},
   "outputs": [],
   "source": [
    "import nltk\n",
    "from nltk.stem import WordNetLemmatizer\n",
    "stemmer = WordNetLemmatizer()\n",
    "\n",
    "example = \"The cat was chasing the mice\"\n",
    "example = [stemmer.lemmatize(token) for token in example.split(\" \")]"
   ]
  },
  {
   "cell_type": "code",
   "execution_count": 8,
   "metadata": {},
   "outputs": [
    {
     "name": "stdout",
     "output_type": "stream",
     "text": [
      "The cat wa chasing the mouse\n"
     ]
    }
   ],
   "source": [
    "print(\" \".join(example))"
   ]
  },
  {
   "cell_type": "code",
   "execution_count": 10,
   "metadata": {},
   "outputs": [
    {
     "name": "stdout",
     "output_type": "stream",
     "text": [
      "good\n"
     ]
    }
   ],
   "source": [
    "print(stemmer.lemmatize('better', pos = 'a'))"
   ]
  },
  {
   "cell_type": "code",
   "execution_count": 5,
   "metadata": {},
   "outputs": [],
   "source": [
    "from sklearn.feature_extraction.text import CountVectorizer"
   ]
  },
  {
   "cell_type": "code",
   "execution_count": 6,
   "metadata": {},
   "outputs": [
    {
     "name": "stdout",
     "output_type": "stream",
     "text": [
      "[[0 0 1 1 1 0 0 0]]\n"
     ]
    }
   ],
   "source": [
    "vect = CountVectorizer(binary = True)\n",
    "corpus = [\"Tessaract is good optical character recognition engine \",\"optical character recognition is significant \"]\n",
    "vect.fit(corpus)\n",
    "print(vect.transform([\"Today is good optical\"]).toarray())"
   ]
  },
  {
   "cell_type": "code",
   "execution_count": 7,
   "metadata": {},
   "outputs": [
    {
     "name": "stdout",
     "output_type": "stream",
     "text": [
      "character:0\n",
      "engine:1\n",
      "good:2\n",
      "is:3\n",
      "optical:4\n",
      "recognition:5\n",
      "significant:6\n",
      "tessaract:7\n"
     ]
    }
   ],
   "source": [
    "vocab = vect.vocabulary_\n",
    "for key in sorted(vocab.keys()):\n",
    "    print(\"{}:{}\".format(key, vocab[key]))"
   ]
  },
  {
   "cell_type": "code",
   "execution_count": 19,
   "metadata": {},
   "outputs": [
    {
     "ename": "ImportError",
     "evalue": "cannot import name 'TfidVectorizer' from 'sklearn.feature_extraction.text' (C:\\Users\\anshj\\Anaconda3\\lib\\site-packages\\sklearn\\feature_extraction\\text.py)",
     "output_type": "error",
     "traceback": [
      "\u001b[1;31m---------------------------------------------------------------------------\u001b[0m",
      "\u001b[1;31mImportError\u001b[0m                               Traceback (most recent call last)",
      "\u001b[1;32m<ipython-input-19-7f6ca63074ff>\u001b[0m in \u001b[0;36m<module>\u001b[1;34m()\u001b[0m\n\u001b[1;32m----> 1\u001b[1;33m \u001b[1;32mfrom\u001b[0m \u001b[0msklearn\u001b[0m\u001b[1;33m.\u001b[0m\u001b[0mfeature_extraction\u001b[0m\u001b[1;33m.\u001b[0m\u001b[0mtext\u001b[0m \u001b[1;32mimport\u001b[0m \u001b[0mTfidVectorizer\u001b[0m\u001b[1;33m\u001b[0m\u001b[0m\n\u001b[0m",
      "\u001b[1;31mImportError\u001b[0m: cannot import name 'TfidVectorizer' from 'sklearn.feature_extraction.text' (C:\\Users\\anshj\\Anaconda3\\lib\\site-packages\\sklearn\\feature_extraction\\text.py)"
     ]
    }
   ],
   "source": [
    "from sklearn.feature_extraction.text import TfidVectorizer"
   ]
  },
  {
   "cell_type": "code",
   "execution_count": 8,
   "metadata": {
    "scrolled": true
   },
   "outputs": [
    {
     "name": "stdout",
     "output_type": "stream",
     "text": [
      "[[1.         0.73029674]\n",
      " [0.73029674 1.        ]]\n"
     ]
    }
   ],
   "source": [
    "from sklearn.metrics.pairwise import cosine_similarity\n",
    "similarity = cosine_similarity(vect.transform([\"tessaract is an optical character recognition engine\", \"optical character recognition is significant\"]))\n",
    "print(similarity)"
   ]
  },
  {
   "cell_type": "code",
   "execution_count": 2,
   "metadata": {},
   "outputs": [
    {
     "ename": "SyntaxError",
     "evalue": "EOL while scanning string literal (<ipython-input-2-c822969f5ffd>, line 2)",
     "output_type": "error",
     "traceback": [
      "\u001b[1;36m  File \u001b[1;32m\"<ipython-input-2-c822969f5ffd>\"\u001b[1;36m, line \u001b[1;32m2\u001b[0m\n\u001b[1;33m    similarity = cosine_similarity(vect.transform([\"One of the finer books I read this year was John Kaag's Hiking with nietzsche in which Kaag, a professor of philosophy, rekindles is passion for the German thinker while tracing picturesque hiking trails in the mountains of Switzerland. Its a near-precise rendering of the travelogue as a self-help book. A young cat was an avowed Nietzsche acolyte but given the ravages of resposibilities and adulthood, the writer put his affinity to test by undertaking physically and enduring hikes through the Alphs, revisiting haunds that the philosopher escaped to, in search of solitude and salve. The journey's demands, coupled with his own inner turmoil, are catnip for anybody feeling at cross purposes with thier own life.\", \"\u001b[0m\n\u001b[1;37m                                                                                                                                                                                                                                                                                                                                                                                                                                                                                                                                                                                                                                                                                                                                                                                                     ^\u001b[0m\n\u001b[1;31mSyntaxError\u001b[0m\u001b[1;31m:\u001b[0m EOL while scanning string literal\n"
     ]
    }
   ],
   "source": [
    "from sklearn.metrics.pairwise import cosine_similarity\n",
    "similarity = cosine_similarity(vect.transform([\"One of the finer books I read this year was John Kaag's Hiking with nietzsche in which Kaag, a professor of philosophy, rekindles is passion for the German thinker while tracing picturesque hiking trails in the mountains of Switzerland. Its a near-precise rendering of the travelogue as a self-help book. A young cat was an avowed Nietzsche acolyte but given the ravages of resposibilities and adulthood, the writer put his affinity to test by undertaking physically and enduring hikes through the Alphs, revisiting haunds that the philosopher escaped to, in search of solitude and salve. The journey's demands, coupled with his own inner turmoil, are catnip for anybody feeling at cross purposes with thier own life.\", \"\n",
    "Summer is a charming flirt. Easy-going and casual. Summer doesn't huff and puff to win our affections. It has us at Hello. Winter broods like the torchered protagonist of big fat Russian novel. It is daunting and dramatic, burning with a slow intensity.\"]))\n",
    "print(similarity)"
   ]
  },
  {
   "cell_type": "code",
   "execution_count": null,
   "metadata": {},
   "outputs": [],
   "source": []
  },
  {
   "cell_type": "code",
   "execution_count": 10,
   "metadata": {},
   "outputs": [
    {
     "name": "stdout",
     "output_type": "stream",
     "text": [
      "[[1. 1.]\n",
      " [1. 1.]]\n"
     ]
    }
   ],
   "source": [
    "from sklearn.metrics.pairwise import cosine_similarity\n",
    "similarity = cosine_similarity(vect.transform([\"One of the finer books I read this year was John Kaag's Hiking with nietzsche in which Kaag, a professor of philosophy, rekindles is passion for the German thinker while tracing picturesque hiking trails in the mountains of Switzerland. Its a near-precise rendering of the travelogue as a self-help book. A young cat was an avowed Nietzsche acolyte but given the ravages of resposibilities and adulthood, the writer put his affinity to test by undertaking physically and enduring hikes through the Alphs, revisiting haunds that the philosopher escaped to, in search of solitude and salve. The journey's demands, coupled with his own inner turmoil, are catnip for anybody feeling at cross purposes with thier own life.\",\n",
    "                                               \"Summer is a charming flirt. Easy-going and casual. Summer does not huff and puff to win our affections. It has us at Hello. Winter broods like the torchered protagonist of big fat Russian novel. It is daunting and dramatic, burning with a slow intensity.\"]))\n",
    "print(similarity)"
   ]
  },
  {
   "cell_type": "code",
   "execution_count": 11,
   "metadata": {},
   "outputs": [],
   "source": [
    "from sklearn.feature_extraction.text import CountVectorizer"
   ]
  },
  {
   "cell_type": "code",
   "execution_count": 15,
   "metadata": {},
   "outputs": [
    {
     "data": {
      "text/plain": [
       "CountVectorizer(analyzer='word', binary=True, decode_error='strict',\n",
       "        dtype=<class 'numpy.int64'>, encoding='utf-8', input='content',\n",
       "        lowercase=True, max_df=1.0, max_features=None, min_df=1,\n",
       "        ngram_range=(1, 1), preprocessor=None, stop_words=None,\n",
       "        strip_accents=None, token_pattern='(?u)\\\\b\\\\w\\\\w+\\\\b',\n",
       "        tokenizer=None, vocabulary=None)"
      ]
     },
     "execution_count": 15,
     "metadata": {},
     "output_type": "execute_result"
    }
   ],
   "source": [
    "vect = CountVectorizer(binary = True)\n",
    "corpus = [\"\"\"If there is a phrase I would prefer to retire from online bios, personal or professional, it is, “I love travel.” Or some approximation of that sentiment. To clarify, I am not against travellers or those who proudly flaunt their passion for travel. On the contrary, editing a travel magazine has now made me oddly protective of travellers and their ilk. My submission is that “love to travel,” suggested so casually, just doesn’t feel adequate to the depth of emotion it sparks in true devotees. \"\"\",\"\"\"One of the finer books I read this year was John Kaag's Hiking with nietzsche in which Kaag, a professor of philosophy, rekindles is passion for the German thinker while tracing picturesque hiking trails in the mountains of Switzerland. Its a near-precise rendering of the travelogue as a self-help book. A young cat was an avowed Nietzsche acolyte but given the ravages of resposibilities and adulthood, the writer put his affinity to test by undertaking physically and enduring hikes through the Alphs, revisiting haunds that the philosopher escaped to, in search of solitude and salve. The journey's demands, coupled with his own inner turmoil, are catnip for anybody feeling at cross purposes with thier own life.\"\"\"]\n",
    "vect.fit(corpus)"
   ]
  },
  {
   "cell_type": "code",
   "execution_count": null,
   "metadata": {},
   "outputs": [],
   "source": []
  },
  {
   "cell_type": "code",
   "execution_count": 16,
   "metadata": {},
   "outputs": [
    {
     "name": "stdout",
     "output_type": "stream",
     "text": [
      "[[1.         0.23869802]\n",
      " [0.23869802 1.        ]]\n"
     ]
    }
   ],
   "source": [
    "from sklearn.metrics.pairwise import cosine_similarity\n",
    "similarity = cosine_similarity(vect.transform([\"One of the finer books I read this year was John Kaag's Hiking with nietzsche in which Kaag, a professor of philosophy, rekindles is passion for the German thinker while tracing picturesque hiking trails in the mountains of Switzerland. Its a near-precise rendering of the travelogue as a self-help book. A young cat was an avowed Nietzsche acolyte but given the ravages of resposibilities and adulthood, the writer put his affinity to test by undertaking physically and enduring hikes through the Alphs, revisiting haunds that the philosopher escaped to, in search of solitude and salve. The journey's demands, coupled with his own inner turmoil, are catnip for anybody feeling at cross purposes with thier own life.\",\n",
    "                                               \"Summer is a charming flirt. Easy-going and casual. Summer does not huff and puff to win our affections. It has us at Hello. Winter broods like the torchered protagonist of big fat Russian novel. It is daunting and dramatic, burning with a slow intensity.\"]))\n",
    "print(similarity)"
   ]
  },
  {
   "cell_type": "code",
   "execution_count": null,
   "metadata": {},
   "outputs": [],
   "source": []
  }
 ],
 "metadata": {
  "kernelspec": {
   "display_name": "Python 3",
   "language": "python",
   "name": "python3"
  },
  "language_info": {
   "codemirror_mode": {
    "name": "ipython",
    "version": 3
   },
   "file_extension": ".py",
   "mimetype": "text/x-python",
   "name": "python",
   "nbconvert_exporter": "python",
   "pygments_lexer": "ipython3",
   "version": "3.7.0"
  }
 },
 "nbformat": 4,
 "nbformat_minor": 2
}
